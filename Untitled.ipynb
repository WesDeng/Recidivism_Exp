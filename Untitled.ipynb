{
 "cells": [
  {
   "cell_type": "code",
   "execution_count": 8,
   "metadata": {},
   "outputs": [],
   "source": [
    "import os\n",
    "import numpy as np\n",
    "import pandas as pd"
   ]
  },
  {
   "cell_type": "code",
   "execution_count": 19,
   "metadata": {},
   "outputs": [
    {
     "name": "stdout",
     "output_type": "stream",
     "text": [
      "Image Question.jpg \u001b[34mPersona\u001b[m\u001b[m            README.md          \u001b[31mmodel_prefer.csv\u001b[m\u001b[m\r\n",
      "\u001b[34mModels\u001b[m\u001b[m             Post-test.png      Untitled.ipynb     \u001b[31mprev_w_group.csv\u001b[m\u001b[m\r\n"
     ]
    }
   ],
   "source": [
    "!ls"
   ]
  },
  {
   "cell_type": "code",
   "execution_count": 20,
   "metadata": {},
   "outputs": [],
   "source": [
    "path = 'C:/Users/wesley/HAII_Exp'\n",
    "df = pd.read_csv('./Step2.csv')"
   ]
  },
  {
   "cell_type": "code",
   "execution_count": 21,
   "metadata": {},
   "outputs": [
    {
     "data": {
      "text/html": [
       "<div>\n",
       "<style scoped>\n",
       "    .dataframe tbody tr th:only-of-type {\n",
       "        vertical-align: middle;\n",
       "    }\n",
       "\n",
       "    .dataframe tbody tr th {\n",
       "        vertical-align: top;\n",
       "    }\n",
       "\n",
       "    .dataframe thead th {\n",
       "        text-align: right;\n",
       "    }\n",
       "</style>\n",
       "<table border=\"1\" class=\"dataframe\">\n",
       "  <thead>\n",
       "    <tr style=\"text-align: right;\">\n",
       "      <th></th>\n",
       "      <th>Timestamp</th>\n",
       "      <th>Username</th>\n",
       "      <th>Among the 8 model cards, which one would you choose for designing a recidivism prediction algorithm? Please pick your first choice below.</th>\n",
       "      <th>Among the 8 model cards, which one would you choose for designing a recidivism prediction algorithm? Please pick your second top choice below.</th>\n",
       "      <th>Please elaborate on your answer above.</th>\n",
       "    </tr>\n",
       "  </thead>\n",
       "  <tbody>\n",
       "    <tr>\n",
       "      <th>0</th>\n",
       "      <td>2020/09/10 1:47:36 PM MDT</td>\n",
       "      <td>amfang@andrew.cmu.edu</td>\n",
       "      <td>Model_2</td>\n",
       "      <td>Model_4</td>\n",
       "      <td>As a fairness advocate, I aim for the lowest p...</td>\n",
       "    </tr>\n",
       "    <tr>\n",
       "      <th>1</th>\n",
       "      <td>2020/09/10 1:48:52 PM MDT</td>\n",
       "      <td>jdiei@andrew.cmu.edu</td>\n",
       "      <td>Model_5</td>\n",
       "      <td>Model_7</td>\n",
       "      <td>Model 5 has the lowest false positive rate of ...</td>\n",
       "    </tr>\n",
       "    <tr>\n",
       "      <th>2</th>\n",
       "      <td>2020/09/10 1:49:04 PM MDT</td>\n",
       "      <td>ysato@andrew.cmu.edu</td>\n",
       "      <td>Model_8</td>\n",
       "      <td>Model_2</td>\n",
       "      <td>My first choice is model 8 because it has the ...</td>\n",
       "    </tr>\n",
       "    <tr>\n",
       "      <th>3</th>\n",
       "      <td>2020/09/10 1:49:09 PM MDT</td>\n",
       "      <td>ashashki@andrew.cmu.edu</td>\n",
       "      <td>Model_3</td>\n",
       "      <td>Model_7</td>\n",
       "      <td>Since I am playing the judge role, I am lookin...</td>\n",
       "    </tr>\n",
       "    <tr>\n",
       "      <th>4</th>\n",
       "      <td>2020/09/10 1:49:36 PM MDT</td>\n",
       "      <td>cheukyil@andrew.cmu.edu</td>\n",
       "      <td>Model_4</td>\n",
       "      <td>Model_4</td>\n",
       "      <td>Since we want to be fair, we want to minimize ...</td>\n",
       "    </tr>\n",
       "  </tbody>\n",
       "</table>\n",
       "</div>"
      ],
      "text/plain": [
       "                   Timestamp                 Username  \\\n",
       "0  2020/09/10 1:47:36 PM MDT    amfang@andrew.cmu.edu   \n",
       "1  2020/09/10 1:48:52 PM MDT     jdiei@andrew.cmu.edu   \n",
       "2  2020/09/10 1:49:04 PM MDT     ysato@andrew.cmu.edu   \n",
       "3  2020/09/10 1:49:09 PM MDT  ashashki@andrew.cmu.edu   \n",
       "4  2020/09/10 1:49:36 PM MDT  cheukyil@andrew.cmu.edu   \n",
       "\n",
       "  Among the 8 model cards, which one would you choose for designing a recidivism prediction algorithm? Please pick your first choice below.  \\\n",
       "0                                            Model_2                                                                                          \n",
       "1                                            Model_5                                                                                          \n",
       "2                                            Model_8                                                                                          \n",
       "3                                            Model_3                                                                                          \n",
       "4                                            Model_4                                                                                          \n",
       "\n",
       "  Among the 8 model cards, which one would you choose for designing a recidivism prediction algorithm? Please pick your second top choice below.  \\\n",
       "0                                            Model_4                                                                                               \n",
       "1                                            Model_7                                                                                               \n",
       "2                                            Model_2                                                                                               \n",
       "3                                            Model_7                                                                                               \n",
       "4                                            Model_4                                                                                               \n",
       "\n",
       "             Please elaborate on your answer above.   \n",
       "0  As a fairness advocate, I aim for the lowest p...  \n",
       "1  Model 5 has the lowest false positive rate of ...  \n",
       "2  My first choice is model 8 because it has the ...  \n",
       "3  Since I am playing the judge role, I am lookin...  \n",
       "4  Since we want to be fair, we want to minimize ...  "
      ]
     },
     "execution_count": 21,
     "metadata": {},
     "output_type": "execute_result"
    }
   ],
   "source": [
    "df.head()"
   ]
  },
  {
   "cell_type": "code",
   "execution_count": 23,
   "metadata": {},
   "outputs": [
    {
     "data": {
      "text/html": [
       "<div>\n",
       "<style scoped>\n",
       "    .dataframe tbody tr th:only-of-type {\n",
       "        vertical-align: middle;\n",
       "    }\n",
       "\n",
       "    .dataframe tbody tr th {\n",
       "        vertical-align: top;\n",
       "    }\n",
       "\n",
       "    .dataframe thead th {\n",
       "        text-align: right;\n",
       "    }\n",
       "</style>\n",
       "<table border=\"1\" class=\"dataframe\">\n",
       "  <thead>\n",
       "    <tr style=\"text-align: right;\">\n",
       "      <th></th>\n",
       "      <th>Timestamp</th>\n",
       "      <th>Username</th>\n",
       "      <th>ind_1</th>\n",
       "      <th>ind_2</th>\n",
       "      <th>Please elaborate on your answer above.</th>\n",
       "    </tr>\n",
       "  </thead>\n",
       "  <tbody>\n",
       "    <tr>\n",
       "      <th>0</th>\n",
       "      <td>2020/09/10 1:47:36 PM MDT</td>\n",
       "      <td>amfang@andrew.cmu.edu</td>\n",
       "      <td>Model_2</td>\n",
       "      <td>Model_4</td>\n",
       "      <td>As a fairness advocate, I aim for the lowest p...</td>\n",
       "    </tr>\n",
       "    <tr>\n",
       "      <th>1</th>\n",
       "      <td>2020/09/10 1:48:52 PM MDT</td>\n",
       "      <td>jdiei@andrew.cmu.edu</td>\n",
       "      <td>Model_5</td>\n",
       "      <td>Model_7</td>\n",
       "      <td>Model 5 has the lowest false positive rate of ...</td>\n",
       "    </tr>\n",
       "    <tr>\n",
       "      <th>2</th>\n",
       "      <td>2020/09/10 1:49:04 PM MDT</td>\n",
       "      <td>ysato@andrew.cmu.edu</td>\n",
       "      <td>Model_8</td>\n",
       "      <td>Model_2</td>\n",
       "      <td>My first choice is model 8 because it has the ...</td>\n",
       "    </tr>\n",
       "    <tr>\n",
       "      <th>3</th>\n",
       "      <td>2020/09/10 1:49:09 PM MDT</td>\n",
       "      <td>ashashki@andrew.cmu.edu</td>\n",
       "      <td>Model_3</td>\n",
       "      <td>Model_7</td>\n",
       "      <td>Since I am playing the judge role, I am lookin...</td>\n",
       "    </tr>\n",
       "    <tr>\n",
       "      <th>4</th>\n",
       "      <td>2020/09/10 1:49:36 PM MDT</td>\n",
       "      <td>cheukyil@andrew.cmu.edu</td>\n",
       "      <td>Model_4</td>\n",
       "      <td>Model_4</td>\n",
       "      <td>Since we want to be fair, we want to minimize ...</td>\n",
       "    </tr>\n",
       "  </tbody>\n",
       "</table>\n",
       "</div>"
      ],
      "text/plain": [
       "                   Timestamp                 Username    ind_1    ind_2  \\\n",
       "0  2020/09/10 1:47:36 PM MDT    amfang@andrew.cmu.edu  Model_2  Model_4   \n",
       "1  2020/09/10 1:48:52 PM MDT     jdiei@andrew.cmu.edu  Model_5  Model_7   \n",
       "2  2020/09/10 1:49:04 PM MDT     ysato@andrew.cmu.edu  Model_8  Model_2   \n",
       "3  2020/09/10 1:49:09 PM MDT  ashashki@andrew.cmu.edu  Model_3  Model_7   \n",
       "4  2020/09/10 1:49:36 PM MDT  cheukyil@andrew.cmu.edu  Model_4  Model_4   \n",
       "\n",
       "             Please elaborate on your answer above.   \n",
       "0  As a fairness advocate, I aim for the lowest p...  \n",
       "1  Model 5 has the lowest false positive rate of ...  \n",
       "2  My first choice is model 8 because it has the ...  \n",
       "3  Since I am playing the judge role, I am lookin...  \n",
       "4  Since we want to be fair, we want to minimize ...  "
      ]
     },
     "execution_count": 23,
     "metadata": {},
     "output_type": "execute_result"
    }
   ],
   "source": [
    "df = df.rename(columns={\"Among the 8 model cards, which one would you choose for designing a recidivism prediction algorithm? Please pick your first choice below.\" : \"ind_1\", \"Among the 8 model cards, which one would you choose for designing a recidivism prediction algorithm? Please pick your second top choice below.\" : \"ind_2\"})\n",
    "df.head()"
   ]
  },
  {
   "cell_type": "code",
   "execution_count": 37,
   "metadata": {},
   "outputs": [],
   "source": [
    "group = [11,11,10,9,8,13,9,7\n",
    ",6\n",
    ",4\n",
    ",7\n",
    ",5\n",
    ",6\n",
    ",5\n",
    ",2\n",
    ",11\n",
    ",8\n",
    ",3\n",
    ",4\n",
    ",2\n",
    ",12\n",
    ",10\n",
    ",5\n",
    ",3\n",
    ",13\n",
    ",9\n",
    ",11\n",
    ",7\n",
    ",1\n",
    ",14\n",
    ",4\n",
    ",9\n",
    ",1\n",
    ",8\n",
    ",13\n",
    ",8\n",
    ",13\n",
    ",14\n",
    ",1\n",
    ",14\n",
    ",3\n",
    ",10\n",
    ",12\n",
    ",5\n",
    ",6\n",
    ",4\n",
    ",3\n",
    ",6\n",
    ",7\n",
    ",1\n",
    ",2\n",
    ",2\n",
    ",12\n",
    ",14\n",
    ",15\n",
    ",10\n",
    ",12\n",
    ",15\n",
    ",15\n",
    ",15\n",
    ",15\n",
    ",15]"
   ]
  },
  {
   "cell_type": "code",
   "execution_count": 38,
   "metadata": {},
   "outputs": [
    {
     "data": {
      "text/plain": [
       "62"
      ]
     },
     "execution_count": 38,
     "metadata": {},
     "output_type": "execute_result"
    }
   ],
   "source": [
    "len(group)"
   ]
  },
  {
   "cell_type": "code",
   "execution_count": 39,
   "metadata": {},
   "outputs": [
    {
     "name": "stdout",
     "output_type": "stream",
     "text": [
      "1 has 4\n",
      "2 has 4\n",
      "3 has 4\n",
      "4 has 4\n",
      "5 has 4\n",
      "6 has 4\n",
      "7 has 4\n",
      "8 has 4\n",
      "9 has 4\n",
      "10 has 4\n",
      "11 has 4\n",
      "12 has 4\n",
      "13 has 4\n",
      "14 has 4\n",
      "15 has 6\n",
      "16 has 0\n"
     ]
    }
   ],
   "source": [
    "for i in range(1, 17):\n",
    "    count = 0\n",
    "    for num in group:\n",
    "        if num == i:\n",
    "            count += 1\n",
    "    print(\"%d has %d\" % (i, count))"
   ]
  },
  {
   "cell_type": "code",
   "execution_count": 32,
   "metadata": {},
   "outputs": [
    {
     "data": {
      "text/plain": [
       "62"
      ]
     },
     "execution_count": 32,
     "metadata": {},
     "output_type": "execute_result"
    }
   ],
   "source": [
    "len(df)"
   ]
  },
  {
   "cell_type": "code",
   "execution_count": 40,
   "metadata": {},
   "outputs": [],
   "source": [
    "df['group_num'] = group"
   ]
  },
  {
   "cell_type": "code",
   "execution_count": 41,
   "metadata": {},
   "outputs": [
    {
     "data": {
      "text/html": [
       "<div>\n",
       "<style scoped>\n",
       "    .dataframe tbody tr th:only-of-type {\n",
       "        vertical-align: middle;\n",
       "    }\n",
       "\n",
       "    .dataframe tbody tr th {\n",
       "        vertical-align: top;\n",
       "    }\n",
       "\n",
       "    .dataframe thead th {\n",
       "        text-align: right;\n",
       "    }\n",
       "</style>\n",
       "<table border=\"1\" class=\"dataframe\">\n",
       "  <thead>\n",
       "    <tr style=\"text-align: right;\">\n",
       "      <th></th>\n",
       "      <th>Timestamp</th>\n",
       "      <th>Username</th>\n",
       "      <th>ind_1</th>\n",
       "      <th>ind_2</th>\n",
       "      <th>Please elaborate on your answer above.</th>\n",
       "      <th>group_num</th>\n",
       "    </tr>\n",
       "  </thead>\n",
       "  <tbody>\n",
       "    <tr>\n",
       "      <th>0</th>\n",
       "      <td>2020/09/10 1:47:36 PM MDT</td>\n",
       "      <td>amfang@andrew.cmu.edu</td>\n",
       "      <td>Model_2</td>\n",
       "      <td>Model_4</td>\n",
       "      <td>As a fairness advocate, I aim for the lowest p...</td>\n",
       "      <td>11</td>\n",
       "    </tr>\n",
       "    <tr>\n",
       "      <th>1</th>\n",
       "      <td>2020/09/10 1:48:52 PM MDT</td>\n",
       "      <td>jdiei@andrew.cmu.edu</td>\n",
       "      <td>Model_5</td>\n",
       "      <td>Model_7</td>\n",
       "      <td>Model 5 has the lowest false positive rate of ...</td>\n",
       "      <td>11</td>\n",
       "    </tr>\n",
       "    <tr>\n",
       "      <th>2</th>\n",
       "      <td>2020/09/10 1:49:04 PM MDT</td>\n",
       "      <td>ysato@andrew.cmu.edu</td>\n",
       "      <td>Model_8</td>\n",
       "      <td>Model_2</td>\n",
       "      <td>My first choice is model 8 because it has the ...</td>\n",
       "      <td>10</td>\n",
       "    </tr>\n",
       "    <tr>\n",
       "      <th>3</th>\n",
       "      <td>2020/09/10 1:49:09 PM MDT</td>\n",
       "      <td>ashashki@andrew.cmu.edu</td>\n",
       "      <td>Model_3</td>\n",
       "      <td>Model_7</td>\n",
       "      <td>Since I am playing the judge role, I am lookin...</td>\n",
       "      <td>9</td>\n",
       "    </tr>\n",
       "    <tr>\n",
       "      <th>4</th>\n",
       "      <td>2020/09/10 1:49:36 PM MDT</td>\n",
       "      <td>cheukyil@andrew.cmu.edu</td>\n",
       "      <td>Model_4</td>\n",
       "      <td>Model_4</td>\n",
       "      <td>Since we want to be fair, we want to minimize ...</td>\n",
       "      <td>8</td>\n",
       "    </tr>\n",
       "  </tbody>\n",
       "</table>\n",
       "</div>"
      ],
      "text/plain": [
       "                   Timestamp                 Username    ind_1    ind_2  \\\n",
       "0  2020/09/10 1:47:36 PM MDT    amfang@andrew.cmu.edu  Model_2  Model_4   \n",
       "1  2020/09/10 1:48:52 PM MDT     jdiei@andrew.cmu.edu  Model_5  Model_7   \n",
       "2  2020/09/10 1:49:04 PM MDT     ysato@andrew.cmu.edu  Model_8  Model_2   \n",
       "3  2020/09/10 1:49:09 PM MDT  ashashki@andrew.cmu.edu  Model_3  Model_7   \n",
       "4  2020/09/10 1:49:36 PM MDT  cheukyil@andrew.cmu.edu  Model_4  Model_4   \n",
       "\n",
       "             Please elaborate on your answer above.   group_num  \n",
       "0  As a fairness advocate, I aim for the lowest p...         11  \n",
       "1  Model 5 has the lowest false positive rate of ...         11  \n",
       "2  My first choice is model 8 because it has the ...         10  \n",
       "3  Since I am playing the judge role, I am lookin...          9  \n",
       "4  Since we want to be fair, we want to minimize ...          8  "
      ]
     },
     "execution_count": 41,
     "metadata": {},
     "output_type": "execute_result"
    }
   ],
   "source": [
    "df.head()"
   ]
  },
  {
   "cell_type": "code",
   "execution_count": null,
   "metadata": {},
   "outputs": [],
   "source": [
    "df.to_csv('')"
   ]
  }
 ],
 "metadata": {
  "kernelspec": {
   "display_name": "Python 3",
   "language": "python",
   "name": "python3"
  },
  "language_info": {
   "codemirror_mode": {
    "name": "ipython",
    "version": 3
   },
   "file_extension": ".py",
   "mimetype": "text/x-python",
   "name": "python",
   "nbconvert_exporter": "python",
   "pygments_lexer": "ipython3",
   "version": "3.7.3"
  }
 },
 "nbformat": 4,
 "nbformat_minor": 2
}
