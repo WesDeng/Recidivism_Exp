{
  "nbformat": 4,
  "nbformat_minor": 0,
  "metadata": {
    "colab": {
      "name": "HW2.ipynb",
      "provenance": [],
      "collapsed_sections": []
    },
    "kernelspec": {
      "name": "python3",
      "display_name": "Python 3"
    }
  },
  "cells": [
    {
      "cell_type": "markdown",
      "metadata": {
        "id": "ZlBhEu6H1Pgm",
        "colab_type": "text"
      },
      "source": [
        "# Human AI Interaction HW2\n",
        "\n",
        "Risk assessment tool has been commonly used in criminal justice systems. In the United States, judges set\n",
        "bail and decide pre-trial detention based on their assessment of the risk that a released defendant would fail to\n",
        "appear at trial or cause harm to the public. While actuarial risk assessment is not new in this domain, there\n",
        "is increasing support for the use of learned risk scores to guide human judges in their decisions. However, there are concerns that such scores can perpetuate inequalities found in historical\n",
        "data, and systematically harm historically disadvantaged groups.\n",
        "\n",
        "In this homework, we will look into\n",
        "an [investigation](https://www.propublica.org/article/how-we-analyzed-the-compas-recidivism-algorithm) carried out by ProPublica of a proprietary risk score, called the COMPAS score. These scores are intended to assess the risk that a defendant will re-offend, a task often called\n",
        "recidivism prediction."
      ]
    },
    {
      "cell_type": "markdown",
      "metadata": {
        "id": "sekNFI_1d9AJ",
        "colab_type": "text"
      },
      "source": [
        "# Loading basic libraries\n",
        "We will begin by importing these libraries. \n",
        "* [matplotlib](https://matplotlib.org/3.1.1/contents.html)\n",
        "* [numpy](https://docs.scipy.org/doc/)\n",
        "* [pandas](https://pandas.pydata.org/pandas-docs/stable/)\n",
        "\n",
        "You are encouraged to read the documentation of these libraries.\n"
      ]
    },
    {
      "cell_type": "code",
      "metadata": {
        "id": "jUp18QfAeav2",
        "colab_type": "code",
        "colab": {}
      },
      "source": [
        "import matplotlib.pyplot as plt\n",
        "import matplotlib.ticker\n",
        "import numpy as np\n",
        "import pandas as pd\n",
        "\n",
        "%matplotlib inline\n",
        "\n",
        "\n",
        "# Imports and helper functions used for tests. \n",
        "import hashlib\n",
        "import sys\n",
        "def get_hash(num):\n",
        "    return hashlib.md5(str(num).encode()).hexdigest()"
      ],
      "execution_count": 75,
      "outputs": []
    },
    {
      "cell_type": "markdown",
      "metadata": {
        "id": "0a1V6zjCewyw",
        "colab_type": "text"
      },
      "source": [
        "# Dataset\n",
        "As a result of a public records request in Broward\n",
        "Country, Florida, ProPublica released their dataset, which is available at https://raw.githubusercontent.com/propublica/compas-analysis/master/compas-scores-two-years.csv. \n",
        "\n",
        "Here, we will download the data from the link above and apply this filter."
      ]
    },
    {
      "cell_type": "code",
      "metadata": {
        "id": "_n1iMnFOhbWq",
        "colab_type": "code",
        "colab": {}
      },
      "source": [
        "data_url = \"https://raw.githubusercontent.com/propublica/compas-analysis/master/compas-scores-two-years.csv\"\n",
        "df = pd.read_csv(data_url)"
      ],
      "execution_count": 76,
      "outputs": []
    },
    {
      "cell_type": "markdown",
      "metadata": {
        "id": "whpaxhbNjEZ0",
        "colab_type": "text"
      },
      "source": [
        "## Pre-processing\n",
        "Following ProPublica’s analysis, we will filter out rows where `days_b_screening_arrest` is over $30$ or under $−30$."
      ]
    },
    {
      "cell_type": "code",
      "metadata": {
        "id": "6Prcei1ii5P4",
        "colab_type": "code",
        "colab": {}
      },
      "source": [
        "df = df.query('days_b_screening_arrest <= 30 & days_b_screening_arrest >= -30')"
      ],
      "execution_count": 77,
      "outputs": []
    },
    {
      "cell_type": "markdown",
      "metadata": {
        "id": "maJG-69unRLT",
        "colab_type": "text"
      },
      "source": [
        "# Part 1 Protected Groups\n",
        "\n",
        "We will filter the data for only two races."
      ]
    },
    {
      "cell_type": "code",
      "metadata": {
        "id": "V2gSSpOwqOuP",
        "colab_type": "code",
        "colab": {
          "base_uri": "https://localhost:8080/",
          "height": 305
        },
        "outputId": "3f5b697e-1c46-4ce6-a7a9-ca861f693887"
      },
      "source": [
        "races = ['African-American', 'Caucasian']\n",
        "df = df[df['race'].isin(races)]\n",
        "df.head(5)"
      ],
      "execution_count": 78,
      "outputs": [
        {
          "output_type": "execute_result",
          "data": {
            "text/html": [
              "<div>\n",
              "<style scoped>\n",
              "    .dataframe tbody tr th:only-of-type {\n",
              "        vertical-align: middle;\n",
              "    }\n",
              "\n",
              "    .dataframe tbody tr th {\n",
              "        vertical-align: top;\n",
              "    }\n",
              "\n",
              "    .dataframe thead th {\n",
              "        text-align: right;\n",
              "    }\n",
              "</style>\n",
              "<table border=\"1\" class=\"dataframe\">\n",
              "  <thead>\n",
              "    <tr style=\"text-align: right;\">\n",
              "      <th></th>\n",
              "      <th>id</th>\n",
              "      <th>name</th>\n",
              "      <th>first</th>\n",
              "      <th>last</th>\n",
              "      <th>compas_screening_date</th>\n",
              "      <th>sex</th>\n",
              "      <th>dob</th>\n",
              "      <th>age</th>\n",
              "      <th>age_cat</th>\n",
              "      <th>race</th>\n",
              "      <th>juv_fel_count</th>\n",
              "      <th>decile_score</th>\n",
              "      <th>juv_misd_count</th>\n",
              "      <th>juv_other_count</th>\n",
              "      <th>priors_count</th>\n",
              "      <th>days_b_screening_arrest</th>\n",
              "      <th>c_jail_in</th>\n",
              "      <th>c_jail_out</th>\n",
              "      <th>c_case_number</th>\n",
              "      <th>c_offense_date</th>\n",
              "      <th>c_arrest_date</th>\n",
              "      <th>c_days_from_compas</th>\n",
              "      <th>c_charge_degree</th>\n",
              "      <th>c_charge_desc</th>\n",
              "      <th>is_recid</th>\n",
              "      <th>r_case_number</th>\n",
              "      <th>r_charge_degree</th>\n",
              "      <th>r_days_from_arrest</th>\n",
              "      <th>r_offense_date</th>\n",
              "      <th>r_charge_desc</th>\n",
              "      <th>r_jail_in</th>\n",
              "      <th>r_jail_out</th>\n",
              "      <th>violent_recid</th>\n",
              "      <th>is_violent_recid</th>\n",
              "      <th>vr_case_number</th>\n",
              "      <th>vr_charge_degree</th>\n",
              "      <th>vr_offense_date</th>\n",
              "      <th>vr_charge_desc</th>\n",
              "      <th>type_of_assessment</th>\n",
              "      <th>decile_score.1</th>\n",
              "      <th>score_text</th>\n",
              "      <th>screening_date</th>\n",
              "      <th>v_type_of_assessment</th>\n",
              "      <th>v_decile_score</th>\n",
              "      <th>v_score_text</th>\n",
              "      <th>v_screening_date</th>\n",
              "      <th>in_custody</th>\n",
              "      <th>out_custody</th>\n",
              "      <th>priors_count.1</th>\n",
              "      <th>start</th>\n",
              "      <th>end</th>\n",
              "      <th>event</th>\n",
              "      <th>two_year_recid</th>\n",
              "    </tr>\n",
              "  </thead>\n",
              "  <tbody>\n",
              "    <tr>\n",
              "      <th>1</th>\n",
              "      <td>3</td>\n",
              "      <td>kevon dixon</td>\n",
              "      <td>kevon</td>\n",
              "      <td>dixon</td>\n",
              "      <td>2013-01-27</td>\n",
              "      <td>Male</td>\n",
              "      <td>1982-01-22</td>\n",
              "      <td>34</td>\n",
              "      <td>25 - 45</td>\n",
              "      <td>African-American</td>\n",
              "      <td>0</td>\n",
              "      <td>3</td>\n",
              "      <td>0</td>\n",
              "      <td>0</td>\n",
              "      <td>0</td>\n",
              "      <td>-1.0</td>\n",
              "      <td>2013-01-26 03:45:27</td>\n",
              "      <td>2013-02-05 05:36:53</td>\n",
              "      <td>13001275CF10A</td>\n",
              "      <td>2013-01-26</td>\n",
              "      <td>NaN</td>\n",
              "      <td>1.0</td>\n",
              "      <td>F</td>\n",
              "      <td>Felony Battery w/Prior Convict</td>\n",
              "      <td>1</td>\n",
              "      <td>13009779CF10A</td>\n",
              "      <td>(F3)</td>\n",
              "      <td>NaN</td>\n",
              "      <td>2013-07-05</td>\n",
              "      <td>Felony Battery (Dom Strang)</td>\n",
              "      <td>NaN</td>\n",
              "      <td>NaN</td>\n",
              "      <td>NaN</td>\n",
              "      <td>1</td>\n",
              "      <td>13009779CF10A</td>\n",
              "      <td>(F3)</td>\n",
              "      <td>2013-07-05</td>\n",
              "      <td>Felony Battery (Dom Strang)</td>\n",
              "      <td>Risk of Recidivism</td>\n",
              "      <td>3</td>\n",
              "      <td>Low</td>\n",
              "      <td>2013-01-27</td>\n",
              "      <td>Risk of Violence</td>\n",
              "      <td>1</td>\n",
              "      <td>Low</td>\n",
              "      <td>2013-01-27</td>\n",
              "      <td>2013-01-26</td>\n",
              "      <td>2013-02-05</td>\n",
              "      <td>0</td>\n",
              "      <td>9</td>\n",
              "      <td>159</td>\n",
              "      <td>1</td>\n",
              "      <td>1</td>\n",
              "    </tr>\n",
              "    <tr>\n",
              "      <th>2</th>\n",
              "      <td>4</td>\n",
              "      <td>ed philo</td>\n",
              "      <td>ed</td>\n",
              "      <td>philo</td>\n",
              "      <td>2013-04-14</td>\n",
              "      <td>Male</td>\n",
              "      <td>1991-05-14</td>\n",
              "      <td>24</td>\n",
              "      <td>Less than 25</td>\n",
              "      <td>African-American</td>\n",
              "      <td>0</td>\n",
              "      <td>4</td>\n",
              "      <td>0</td>\n",
              "      <td>1</td>\n",
              "      <td>4</td>\n",
              "      <td>-1.0</td>\n",
              "      <td>2013-04-13 04:58:34</td>\n",
              "      <td>2013-04-14 07:02:04</td>\n",
              "      <td>13005330CF10A</td>\n",
              "      <td>2013-04-13</td>\n",
              "      <td>NaN</td>\n",
              "      <td>1.0</td>\n",
              "      <td>F</td>\n",
              "      <td>Possession of Cocaine</td>\n",
              "      <td>1</td>\n",
              "      <td>13011511MM10A</td>\n",
              "      <td>(M1)</td>\n",
              "      <td>0.0</td>\n",
              "      <td>2013-06-16</td>\n",
              "      <td>Driving Under The Influence</td>\n",
              "      <td>2013-06-16</td>\n",
              "      <td>2013-06-16</td>\n",
              "      <td>NaN</td>\n",
              "      <td>0</td>\n",
              "      <td>NaN</td>\n",
              "      <td>NaN</td>\n",
              "      <td>NaN</td>\n",
              "      <td>NaN</td>\n",
              "      <td>Risk of Recidivism</td>\n",
              "      <td>4</td>\n",
              "      <td>Low</td>\n",
              "      <td>2013-04-14</td>\n",
              "      <td>Risk of Violence</td>\n",
              "      <td>3</td>\n",
              "      <td>Low</td>\n",
              "      <td>2013-04-14</td>\n",
              "      <td>2013-06-16</td>\n",
              "      <td>2013-06-16</td>\n",
              "      <td>4</td>\n",
              "      <td>0</td>\n",
              "      <td>63</td>\n",
              "      <td>0</td>\n",
              "      <td>1</td>\n",
              "    </tr>\n",
              "    <tr>\n",
              "      <th>6</th>\n",
              "      <td>8</td>\n",
              "      <td>edward riddle</td>\n",
              "      <td>edward</td>\n",
              "      <td>riddle</td>\n",
              "      <td>2014-02-19</td>\n",
              "      <td>Male</td>\n",
              "      <td>1974-07-23</td>\n",
              "      <td>41</td>\n",
              "      <td>25 - 45</td>\n",
              "      <td>Caucasian</td>\n",
              "      <td>0</td>\n",
              "      <td>6</td>\n",
              "      <td>0</td>\n",
              "      <td>0</td>\n",
              "      <td>14</td>\n",
              "      <td>-1.0</td>\n",
              "      <td>2014-02-18 05:08:24</td>\n",
              "      <td>2014-02-24 12:18:30</td>\n",
              "      <td>14002304CF10A</td>\n",
              "      <td>2014-02-18</td>\n",
              "      <td>NaN</td>\n",
              "      <td>1.0</td>\n",
              "      <td>F</td>\n",
              "      <td>Possession Burglary Tools</td>\n",
              "      <td>1</td>\n",
              "      <td>14004485CF10A</td>\n",
              "      <td>(F2)</td>\n",
              "      <td>0.0</td>\n",
              "      <td>2014-03-31</td>\n",
              "      <td>Poss of Firearm by Convic Felo</td>\n",
              "      <td>2014-03-31</td>\n",
              "      <td>2014-04-18</td>\n",
              "      <td>NaN</td>\n",
              "      <td>0</td>\n",
              "      <td>NaN</td>\n",
              "      <td>NaN</td>\n",
              "      <td>NaN</td>\n",
              "      <td>NaN</td>\n",
              "      <td>Risk of Recidivism</td>\n",
              "      <td>6</td>\n",
              "      <td>Medium</td>\n",
              "      <td>2014-02-19</td>\n",
              "      <td>Risk of Violence</td>\n",
              "      <td>2</td>\n",
              "      <td>Low</td>\n",
              "      <td>2014-02-19</td>\n",
              "      <td>2014-03-31</td>\n",
              "      <td>2014-04-18</td>\n",
              "      <td>14</td>\n",
              "      <td>5</td>\n",
              "      <td>40</td>\n",
              "      <td>1</td>\n",
              "      <td>1</td>\n",
              "    </tr>\n",
              "    <tr>\n",
              "      <th>8</th>\n",
              "      <td>10</td>\n",
              "      <td>elizabeth thieme</td>\n",
              "      <td>elizabeth</td>\n",
              "      <td>thieme</td>\n",
              "      <td>2014-03-16</td>\n",
              "      <td>Female</td>\n",
              "      <td>1976-06-03</td>\n",
              "      <td>39</td>\n",
              "      <td>25 - 45</td>\n",
              "      <td>Caucasian</td>\n",
              "      <td>0</td>\n",
              "      <td>1</td>\n",
              "      <td>0</td>\n",
              "      <td>0</td>\n",
              "      <td>0</td>\n",
              "      <td>-1.0</td>\n",
              "      <td>2014-03-15 05:35:34</td>\n",
              "      <td>2014-03-18 04:28:46</td>\n",
              "      <td>14004524MM10A</td>\n",
              "      <td>2014-03-15</td>\n",
              "      <td>NaN</td>\n",
              "      <td>1.0</td>\n",
              "      <td>M</td>\n",
              "      <td>Battery</td>\n",
              "      <td>0</td>\n",
              "      <td>NaN</td>\n",
              "      <td>NaN</td>\n",
              "      <td>NaN</td>\n",
              "      <td>NaN</td>\n",
              "      <td>NaN</td>\n",
              "      <td>NaN</td>\n",
              "      <td>NaN</td>\n",
              "      <td>NaN</td>\n",
              "      <td>0</td>\n",
              "      <td>NaN</td>\n",
              "      <td>NaN</td>\n",
              "      <td>NaN</td>\n",
              "      <td>NaN</td>\n",
              "      <td>Risk of Recidivism</td>\n",
              "      <td>1</td>\n",
              "      <td>Low</td>\n",
              "      <td>2014-03-16</td>\n",
              "      <td>Risk of Violence</td>\n",
              "      <td>1</td>\n",
              "      <td>Low</td>\n",
              "      <td>2014-03-16</td>\n",
              "      <td>2014-03-15</td>\n",
              "      <td>2014-03-18</td>\n",
              "      <td>0</td>\n",
              "      <td>2</td>\n",
              "      <td>747</td>\n",
              "      <td>0</td>\n",
              "      <td>0</td>\n",
              "    </tr>\n",
              "    <tr>\n",
              "      <th>10</th>\n",
              "      <td>14</td>\n",
              "      <td>benjamin franc</td>\n",
              "      <td>benjamin</td>\n",
              "      <td>franc</td>\n",
              "      <td>2013-11-26</td>\n",
              "      <td>Male</td>\n",
              "      <td>1988-06-01</td>\n",
              "      <td>27</td>\n",
              "      <td>25 - 45</td>\n",
              "      <td>Caucasian</td>\n",
              "      <td>0</td>\n",
              "      <td>4</td>\n",
              "      <td>0</td>\n",
              "      <td>0</td>\n",
              "      <td>0</td>\n",
              "      <td>-1.0</td>\n",
              "      <td>2013-11-25 06:31:06</td>\n",
              "      <td>2013-11-26 08:26:57</td>\n",
              "      <td>13016402CF10A</td>\n",
              "      <td>2013-11-25</td>\n",
              "      <td>NaN</td>\n",
              "      <td>1.0</td>\n",
              "      <td>F</td>\n",
              "      <td>Poss 3,4 MDMA (Ecstasy)</td>\n",
              "      <td>0</td>\n",
              "      <td>NaN</td>\n",
              "      <td>NaN</td>\n",
              "      <td>NaN</td>\n",
              "      <td>NaN</td>\n",
              "      <td>NaN</td>\n",
              "      <td>NaN</td>\n",
              "      <td>NaN</td>\n",
              "      <td>NaN</td>\n",
              "      <td>0</td>\n",
              "      <td>NaN</td>\n",
              "      <td>NaN</td>\n",
              "      <td>NaN</td>\n",
              "      <td>NaN</td>\n",
              "      <td>Risk of Recidivism</td>\n",
              "      <td>4</td>\n",
              "      <td>Low</td>\n",
              "      <td>2013-11-26</td>\n",
              "      <td>Risk of Violence</td>\n",
              "      <td>4</td>\n",
              "      <td>Low</td>\n",
              "      <td>2013-11-26</td>\n",
              "      <td>2013-11-25</td>\n",
              "      <td>2013-11-26</td>\n",
              "      <td>0</td>\n",
              "      <td>0</td>\n",
              "      <td>857</td>\n",
              "      <td>0</td>\n",
              "      <td>0</td>\n",
              "    </tr>\n",
              "  </tbody>\n",
              "</table>\n",
              "</div>"
            ],
            "text/plain": [
              "    id              name      first    last  ... start  end event  two_year_recid\n",
              "1    3       kevon dixon      kevon   dixon  ...     9  159     1               1\n",
              "2    4          ed philo         ed   philo  ...     0   63     0               1\n",
              "6    8     edward riddle     edward  riddle  ...     5   40     1               1\n",
              "8   10  elizabeth thieme  elizabeth  thieme  ...     2  747     0               0\n",
              "10  14    benjamin franc   benjamin   franc  ...     0  857     0               0\n",
              "\n",
              "[5 rows x 53 columns]"
            ]
          },
          "metadata": {
            "tags": []
          },
          "execution_count": 78
        }
      ]
    },
    {
      "cell_type": "markdown",
      "metadata": {
        "id": "wpKiFATutKu0",
        "colab_type": "text"
      },
      "source": [
        "## Question 1.A: How many rows are in the `African-American` group? How many in the `Caucasian` group?\n",
        "_Double click to write your answer question here. Show your work in code below if applicable._"
      ]
    },
    {
      "cell_type": "code",
      "metadata": {
        "id": "9CSqm5ZO14qr",
        "colab_type": "code",
        "colab": {}
      },
      "source": [
        ""
      ],
      "execution_count": 78,
      "outputs": []
    },
    {
      "cell_type": "markdown",
      "metadata": {
        "id": "M5iQjd-8yRNQ",
        "colab_type": "text"
      },
      "source": [
        "# Part 2 Predictions by thresholding the scores\n",
        "\n",
        "Suppose we make predictions by setting a threshold on the COMPAS risk scores. That is we predict an individual will re-offend (recidivate) if their score is greater than equal the threshold.\n",
        "\n",
        "The dataset does not contain the original COMPAS risk scores. Instead, the column `decile_score` provides the decile of the COMPAS risk score (similar to a percentile, but out of 10). We will refer to this decile value (a number between 1 and 10) as our COMPAS \"decile score\". "
      ]
    },
    {
      "cell_type": "markdown",
      "metadata": {
        "id": "Hwkre6H0YrY0",
        "colab_type": "text"
      },
      "source": [
        "## Grouping the examples by `race` and `decile_score`.\n",
        "\n",
        "We will first create a dataframe that groups the individuals according to their (`race`, `decile_score`) pairs."
      ]
    },
    {
      "cell_type": "code",
      "metadata": {
        "id": "qCGAUTiY19sL",
        "colab_type": "code",
        "colab": {
          "base_uri": "https://localhost:8080/",
          "height": 397
        },
        "outputId": "2f9547ed-b41d-4ebe-a4da-201d130991c8"
      },
      "source": [
        "groups = df.groupby(['race', 'decile_score'], as_index=False)\n",
        "groups.size()"
      ],
      "execution_count": 79,
      "outputs": [
        {
          "output_type": "execute_result",
          "data": {
            "text/plain": [
              "race              decile_score\n",
              "African-American  1               365\n",
              "                  2               346\n",
              "                  3               298\n",
              "                  4               337\n",
              "                  5               323\n",
              "                  6               318\n",
              "                  7               343\n",
              "                  8               301\n",
              "                  9               317\n",
              "                  10              227\n",
              "Caucasian         1               605\n",
              "                  2               321\n",
              "                  3               238\n",
              "                  4               243\n",
              "                  5               200\n",
              "                  6               160\n",
              "                  7               113\n",
              "                  8                96\n",
              "                  9                77\n",
              "                  10               50\n",
              "dtype: int64"
            ]
          },
          "metadata": {
            "tags": []
          },
          "execution_count": 79
        }
      ]
    },
    {
      "cell_type": "markdown",
      "metadata": {
        "id": "YSBot_wAajaU",
        "colab_type": "text"
      },
      "source": [
        "## Question 2.A. For each `race`/`decile_score` pair, implement the following:\n",
        "1. `total_count_fn` that returns the total number of examples in the dataframe. \n",
        "2. `recid_count_fn` that returns the number of cases where recidivism occurred within two years,\n",
        "2. `non_recid_count_fn` that returns the number of cases where recidivism did not occur, and \n",
        "\n",
        "We have already provided a skeleton for each function and a test to help you check for correctness.\n",
        "\n",
        "Note: the column `two_year_recid` is a column that takes value 1 if recidivism occurred within two years, and 0 if recidivism did not occur."
      ]
    },
    {
      "cell_type": "code",
      "metadata": {
        "id": "gfm5GTcaapBk",
        "colab_type": "code",
        "colab": {
          "base_uri": "https://localhost:8080/",
          "height": 52
        },
        "outputId": "20660f38-1743-4323-ce51-dd4684aa1049"
      },
      "source": [
        "# Compute the total number of examples in the dataset.\n",
        "def total_count_fn(df_recid_column):\n",
        "    \"\"\"Computes the total number of examples in the dataset.\n",
        "    \n",
        "    Args: \n",
        "      df_recid_column: dataframe column where each row takes value 1 if \n",
        "        recidivism occured, and 0 if recidivism did not occur.\n",
        "    \n",
        "    Returns: \n",
        "      The total number of rows in the dataset.\n",
        "    \"\"\"\n",
        "    total_count = len(df_recid_column) # FILL IN\n",
        "    return total_count \n",
        "\n",
        "print(\"Total number of examples in the dataset:\", total_count_fn(df['two_year_recid']))\n",
        "\n",
        "# Test for correctness of this function.\n",
        "assert(get_hash(total_count_fn(df['two_year_recid'])) == '82f292a22966b857d968fb578ccbead9')\n",
        "print(\"Test passed!\")"
      ],
      "execution_count": 80,
      "outputs": [
        {
          "output_type": "stream",
          "text": [
            "Total number of examples in the dataset: 5278\n",
            "Test passed!\n"
          ],
          "name": "stdout"
        }
      ]
    },
    {
      "cell_type": "code",
      "metadata": {
        "id": "89YWx3Zg2OEi",
        "colab_type": "code",
        "colab": {
          "base_uri": "https://localhost:8080/",
          "height": 104
        },
        "outputId": "e009461a-ec91-41c4-fd54-f169524f57c5"
      },
      "source": [
        "# Compute the total number of examples in which recidivism occurred within two years.\n",
        "def recid_count_fn(df_recid_column):\n",
        "    \"\"\"Computes the total number of examples in which recidivism occurred in two years.\n",
        "    \n",
        "    Args: \n",
        "      df_recid_column: dataframe column where each row takes value 1 if \n",
        "        recidivism occured, and 0 if recidivism did not occur.\n",
        "    \n",
        "    Returns: \n",
        "      The total number of rows in which recidivism occurred in two years.\n",
        "    \"\"\"\n",
        "    recid_count = np.sum(df_recid_column) # FILL IN\n",
        "    return recid_count\n",
        "\n",
        "print(\"Total number of examples of recidivism in the dataset:\", recid_count_fn(df['two_year_recid']))\n",
        "\n",
        "# Test for correctness of this function.\n",
        "assert(get_hash(recid_count_fn(df['two_year_recid'])) == '2c6ae45a3e88aee548c0714fad7f8269')\n",
        "print(\"Test passed!\")\n",
        "\n",
        "\n",
        "# Compute the total number of examples in which recidivism did not occur within two years.\n",
        "def non_recid_count_fn(df_recid_column):\n",
        "    \"\"\"Computes the total number of examples in which recidivism did not occur.\n",
        "    \n",
        "    Args: \n",
        "      df_recid_column: dataframe column where each row takes value 1 if \n",
        "        recidivism occured, and 0 if recidivism did not occur.\n",
        "    \n",
        "    Returns: \n",
        "      The total number of rows in which recidivism did not occur.\n",
        "    \"\"\"\n",
        "    non_recid_count = np.size(df_recid_column) - np.sum(df_recid_column) # FILL IN\n",
        "    return non_recid_count \n",
        "\n",
        "print(\"Total number of examples of non-recidivism in the dataset:\", non_recid_count_fn(df['two_year_recid']))\n",
        "\n",
        "# Test for correctness of this function.\n",
        "assert(get_hash(non_recid_count_fn(df['two_year_recid'])) == 'a7f592cef8b130a6967a90617db5681b')\n",
        "print(\"Test passed!\")"
      ],
      "execution_count": 88,
      "outputs": [
        {
          "output_type": "stream",
          "text": [
            "Total number of examples of recidivism in the dataset: 2483\n",
            "2c6ae45a3e88aee548c0714fad7f8269\n",
            "Test passed!\n",
            "Total number of examples of non-recidivism in the dataset: 2795\n",
            "Test passed!\n"
          ],
          "name": "stdout"
        }
      ]
    },
    {
      "cell_type": "markdown",
      "metadata": {
        "id": "vbudH6Wx52Mb",
        "colab_type": "text"
      },
      "source": [
        "### Create the `summary` dataframe\n",
        "We now create a dataframe called `summary`, where each row contains summary statistics for each `race`/`decile_score` pair, including the total number of examples with that race and decile_score (`total_count`), the number of examples with that race and decile_score where recidivism occurred (`recid_count`), and the number of examples with that race and decile_score where recidivism did not occur (`non_recid_count`).\n",
        "\n",
        "The `.agg` function below applies the functions you just wrote over a column of the dataframe corresponding to each `race`/`decile_score` pair. \n",
        "Each function will be computed on the column `two_year_recid` for each `race`/`decile_score` pair."
      ]
    },
    {
      "cell_type": "code",
      "metadata": {
        "id": "Wbcor4Ue63mN",
        "colab_type": "code",
        "colab": {
          "base_uri": "https://localhost:8080/",
          "height": 648
        },
        "outputId": "9e2850ad-ef11-4e0a-e924-3785beceef39"
      },
      "source": [
        "summary = groups['two_year_recid'].agg({'recid_count': recid_count_fn, 'non_recid_count': non_recid_count_fn, 'total_count': total_count_fn})\n",
        "summary"
      ],
      "execution_count": 82,
      "outputs": [
        {
          "output_type": "execute_result",
          "data": {
            "text/html": [
              "<div>\n",
              "<style scoped>\n",
              "    .dataframe tbody tr th:only-of-type {\n",
              "        vertical-align: middle;\n",
              "    }\n",
              "\n",
              "    .dataframe tbody tr th {\n",
              "        vertical-align: top;\n",
              "    }\n",
              "\n",
              "    .dataframe thead th {\n",
              "        text-align: right;\n",
              "    }\n",
              "</style>\n",
              "<table border=\"1\" class=\"dataframe\">\n",
              "  <thead>\n",
              "    <tr style=\"text-align: right;\">\n",
              "      <th></th>\n",
              "      <th>race</th>\n",
              "      <th>decile_score</th>\n",
              "      <th>recid_count</th>\n",
              "      <th>non_recid_count</th>\n",
              "      <th>total_count</th>\n",
              "    </tr>\n",
              "  </thead>\n",
              "  <tbody>\n",
              "    <tr>\n",
              "      <th>0</th>\n",
              "      <td>African-American</td>\n",
              "      <td>1</td>\n",
              "      <td>85</td>\n",
              "      <td>280</td>\n",
              "      <td>365</td>\n",
              "    </tr>\n",
              "    <tr>\n",
              "      <th>1</th>\n",
              "      <td>African-American</td>\n",
              "      <td>2</td>\n",
              "      <td>105</td>\n",
              "      <td>241</td>\n",
              "      <td>346</td>\n",
              "    </tr>\n",
              "    <tr>\n",
              "      <th>2</th>\n",
              "      <td>African-American</td>\n",
              "      <td>3</td>\n",
              "      <td>125</td>\n",
              "      <td>173</td>\n",
              "      <td>298</td>\n",
              "    </tr>\n",
              "    <tr>\n",
              "      <th>3</th>\n",
              "      <td>African-American</td>\n",
              "      <td>4</td>\n",
              "      <td>158</td>\n",
              "      <td>179</td>\n",
              "      <td>337</td>\n",
              "    </tr>\n",
              "    <tr>\n",
              "      <th>4</th>\n",
              "      <td>African-American</td>\n",
              "      <td>5</td>\n",
              "      <td>158</td>\n",
              "      <td>165</td>\n",
              "      <td>323</td>\n",
              "    </tr>\n",
              "    <tr>\n",
              "      <th>5</th>\n",
              "      <td>African-American</td>\n",
              "      <td>6</td>\n",
              "      <td>187</td>\n",
              "      <td>131</td>\n",
              "      <td>318</td>\n",
              "    </tr>\n",
              "    <tr>\n",
              "      <th>6</th>\n",
              "      <td>African-American</td>\n",
              "      <td>7</td>\n",
              "      <td>209</td>\n",
              "      <td>134</td>\n",
              "      <td>343</td>\n",
              "    </tr>\n",
              "    <tr>\n",
              "      <th>7</th>\n",
              "      <td>African-American</td>\n",
              "      <td>8</td>\n",
              "      <td>215</td>\n",
              "      <td>86</td>\n",
              "      <td>301</td>\n",
              "    </tr>\n",
              "    <tr>\n",
              "      <th>8</th>\n",
              "      <td>African-American</td>\n",
              "      <td>9</td>\n",
              "      <td>229</td>\n",
              "      <td>88</td>\n",
              "      <td>317</td>\n",
              "    </tr>\n",
              "    <tr>\n",
              "      <th>9</th>\n",
              "      <td>African-American</td>\n",
              "      <td>10</td>\n",
              "      <td>190</td>\n",
              "      <td>37</td>\n",
              "      <td>227</td>\n",
              "    </tr>\n",
              "    <tr>\n",
              "      <th>10</th>\n",
              "      <td>Caucasian</td>\n",
              "      <td>1</td>\n",
              "      <td>128</td>\n",
              "      <td>477</td>\n",
              "      <td>605</td>\n",
              "    </tr>\n",
              "    <tr>\n",
              "      <th>11</th>\n",
              "      <td>Caucasian</td>\n",
              "      <td>2</td>\n",
              "      <td>100</td>\n",
              "      <td>221</td>\n",
              "      <td>321</td>\n",
              "    </tr>\n",
              "    <tr>\n",
              "      <th>12</th>\n",
              "      <td>Caucasian</td>\n",
              "      <td>3</td>\n",
              "      <td>82</td>\n",
              "      <td>156</td>\n",
              "      <td>238</td>\n",
              "    </tr>\n",
              "    <tr>\n",
              "      <th>13</th>\n",
              "      <td>Caucasian</td>\n",
              "      <td>4</td>\n",
              "      <td>98</td>\n",
              "      <td>145</td>\n",
              "      <td>243</td>\n",
              "    </tr>\n",
              "    <tr>\n",
              "      <th>14</th>\n",
              "      <td>Caucasian</td>\n",
              "      <td>5</td>\n",
              "      <td>91</td>\n",
              "      <td>109</td>\n",
              "      <td>200</td>\n",
              "    </tr>\n",
              "    <tr>\n",
              "      <th>15</th>\n",
              "      <td>Caucasian</td>\n",
              "      <td>6</td>\n",
              "      <td>93</td>\n",
              "      <td>67</td>\n",
              "      <td>160</td>\n",
              "    </tr>\n",
              "    <tr>\n",
              "      <th>16</th>\n",
              "      <td>Caucasian</td>\n",
              "      <td>7</td>\n",
              "      <td>68</td>\n",
              "      <td>45</td>\n",
              "      <td>113</td>\n",
              "    </tr>\n",
              "    <tr>\n",
              "      <th>17</th>\n",
              "      <td>Caucasian</td>\n",
              "      <td>8</td>\n",
              "      <td>72</td>\n",
              "      <td>24</td>\n",
              "      <td>96</td>\n",
              "    </tr>\n",
              "    <tr>\n",
              "      <th>18</th>\n",
              "      <td>Caucasian</td>\n",
              "      <td>9</td>\n",
              "      <td>55</td>\n",
              "      <td>22</td>\n",
              "      <td>77</td>\n",
              "    </tr>\n",
              "    <tr>\n",
              "      <th>19</th>\n",
              "      <td>Caucasian</td>\n",
              "      <td>10</td>\n",
              "      <td>35</td>\n",
              "      <td>15</td>\n",
              "      <td>50</td>\n",
              "    </tr>\n",
              "  </tbody>\n",
              "</table>\n",
              "</div>"
            ],
            "text/plain": [
              "                race  decile_score  recid_count  non_recid_count  total_count\n",
              "0   African-American             1           85              280          365\n",
              "1   African-American             2          105              241          346\n",
              "2   African-American             3          125              173          298\n",
              "3   African-American             4          158              179          337\n",
              "4   African-American             5          158              165          323\n",
              "5   African-American             6          187              131          318\n",
              "6   African-American             7          209              134          343\n",
              "7   African-American             8          215               86          301\n",
              "8   African-American             9          229               88          317\n",
              "9   African-American            10          190               37          227\n",
              "10         Caucasian             1          128              477          605\n",
              "11         Caucasian             2          100              221          321\n",
              "12         Caucasian             3           82              156          238\n",
              "13         Caucasian             4           98              145          243\n",
              "14         Caucasian             5           91              109          200\n",
              "15         Caucasian             6           93               67          160\n",
              "16         Caucasian             7           68               45          113\n",
              "17         Caucasian             8           72               24           96\n",
              "18         Caucasian             9           55               22           77\n",
              "19         Caucasian            10           35               15           50"
            ]
          },
          "metadata": {
            "tags": []
          },
          "execution_count": 82
        }
      ]
    },
    {
      "cell_type": "markdown",
      "metadata": {
        "id": "ILtIpP95-q5C",
        "colab_type": "text"
      },
      "source": [
        "## Question 2.B. Explore different decision thresholds.\n",
        "\n",
        "For each race in the `summary` dataframe, we will investigate outcome when we set the decision threshold to be each `decile_score`.\n",
        "\n",
        "Specifically, we will iterate through the `decile_scores` in the `summary` dataframe, and for each `decile_score`, we will compute the number of true positives, true negatives, false positives, and false negatives under the assumption that the decision threshold occurs just below this `decile_score`. For example, in the row of the `summary` dataframe corresponding to a `decile_score` of 5, we will compute the number of true positives under the assumption that every example receiving a `decile_score` of 5 or above is classified as positive.\n",
        "\n",
        "Your task is to fill in the missing parts for the four functions below:\n",
        "1. `get_TN_column`\n",
        "2. `get_FP_column`\n",
        "3. `get_FN_column`\n",
        "\n",
        "We have provided an example on how to implement `get_TP_column`.\n"
      ]
    },
    {
      "cell_type": "code",
      "metadata": {
        "id": "sbjSqjR2-wGa",
        "colab_type": "code",
        "colab": {
          "base_uri": "https://localhost:8080/",
          "height": 52
        },
        "outputId": "8722890a-9d18-417d-dfd0-1e88e84e7267"
      },
      "source": [
        "# Compute the number of true positives assuming the decision threshold \n",
        "# occurs just below each decile_score.\n",
        "# If you'd like, you may also restructure the loop inside this function \n",
        "# (but do not change the function definition).\n",
        "def get_TP_column(summary_df):\n",
        "    \"\"\"Returns an array of the number of true positives for each decile_score threshold.\n",
        "    \n",
        "    Args:\n",
        "      summary_df: dataframe containing columns for 'decile_score', 'recid_count', \n",
        "        'non_recid_count', and 'total_count' for a single race.\n",
        "    \n",
        "    Returns:\n",
        "      An array of the number of true positives for each decile_score (under the assumption that every example\n",
        "      receiving that row's decile_score or above is classified as positive -- aka, the decision threshold occurs\n",
        "      just below the row's decile score.)\n",
        "    \"\"\"\n",
        "    TPs = []\n",
        "    for threshold in summary_df['decile_score']:\n",
        "        true_positives = sum(summary_df[summary_df['decile_score'] \n",
        "                                        >= threshold]['recid_count'])# Compute the number of true positives for this threshold. \n",
        "                                                                     # Iterate through the summary_df, compare the threshold to 'decile_score', and add up the 'recid_count' column.\n",
        "        TPs.append(true_positives)\n",
        "    return np.array(TPs, dtype=np.int32)\n",
        "\n",
        "print(\"TP column for Caucasian:\", get_TP_column(summary[summary['race']=='Caucasian']))\n",
        "\n",
        "assert(get_hash(get_TP_column(summary[summary['race']=='Caucasian'])) == 'fdca79d31fe11760d9c6a06a4f8cb660')\n",
        "print(\"Test passed!\")"
      ],
      "execution_count": 100,
      "outputs": [
        {
          "output_type": "stream",
          "text": [
            "TP column for Caucasian: [822 694 594 512 414 323 230 162  90  35]\n",
            "Test passed!\n"
          ],
          "name": "stdout"
        }
      ]
    },
    {
      "cell_type": "code",
      "metadata": {
        "id": "xRqRmPCnCwAi",
        "colab_type": "code",
        "colab": {
          "base_uri": "https://localhost:8080/",
          "height": 52
        },
        "outputId": "05ea0e2c-5b1c-4ff2-d022-c35cd33fa602"
      },
      "source": [
        "# Compute the number of true negatives assuming the decision threshold \n",
        "# occurs just below each decile_score.\n",
        "def get_TN_column(summary_df):\n",
        "    \"\"\"Returns an array of the number of true negatives for each decile_score threshold.\n",
        "    \n",
        "    Args:\n",
        "      summary_df: dataframe containing columns for 'decile_score', 'recid_count', \n",
        "        'non_recid_count', and 'total_count' for a given race.\n",
        "    \n",
        "    Returns:\n",
        "      An array of the number of true negatives for each decile_score (under the assumption that every example\n",
        "      receiving that row's decile_score or above is classified as positive -- aka, the decision threshold occurs\n",
        "      just below the row's decile score.)\n",
        "    \"\"\"\n",
        "    TNs = []\n",
        "    for threshold in summary_df['decile_score']:\n",
        "        true_negatives = sum(summary_df[summary_df['decile_score'] \n",
        "                                        < threshold]['non_recid_count'])# FILL IN: compute the number of true negatives for this threshold.  \n",
        "        TNs.append(true_negatives)\n",
        "    return np.array(TNs, dtype=np.int32)\n",
        "\n",
        "print(\"TN column for Caucasian:\", get_TN_column(summary[summary['race']=='Caucasian']))\n",
        "\n",
        "assert(get_hash(get_TN_column(summary[summary['race']=='Caucasian']))  == '8175ee4854079441b234ca97e7f9a1c5')\n",
        "print(\"Test passed!\")"
      ],
      "execution_count": 92,
      "outputs": [
        {
          "output_type": "stream",
          "text": [
            "TN column for Caucasian: [   0  477  698  854  999 1108 1175 1220 1244 1266]\n",
            "Test passed!\n"
          ],
          "name": "stdout"
        }
      ]
    },
    {
      "cell_type": "code",
      "metadata": {
        "id": "5o7BTZXVPgtW",
        "colab_type": "code",
        "colab": {
          "base_uri": "https://localhost:8080/",
          "height": 52
        },
        "outputId": "6ec4974f-12c2-4187-e109-5857e6b6f1c3"
      },
      "source": [
        "# Compute the number of false positives assuming the decision threshold \n",
        "# occurs just below each decile_score.\n",
        "def get_FP_column(summary_df):\n",
        "    \"\"\"Returns an array of the number of false positives for each decile_score threshold.\n",
        "    \n",
        "    Args:\n",
        "      summary_df: dataframe containing columns for 'decile_score', 'recid_count', \n",
        "        'non_recid_count', and 'total_count' for a given race.\n",
        "    \n",
        "    Returns:\n",
        "      An array of the number of false positives for each decile_score (under the assumption that every example\n",
        "      receiving that row's decile_score or above is classified as positive -- aka, the decision threshold occurs\n",
        "      just below the row's decile score.)\n",
        "    \"\"\"\n",
        "    FPs = []\n",
        "    for threshold in summary_df['decile_score']:\n",
        "        false_positives = sum(summary_df[summary_df['decile_score'] \n",
        "                                         >= threshold]['non_recid_count'])# FILL IN: compute the number of false positives for this threshold.           \n",
        "        FPs.append(false_positives)\n",
        "    return np.array(FPs, dtype=np.int32)\n",
        "\n",
        "print(\"FP column for Caucasian:\", get_FP_column(summary[summary['race']=='Caucasian']))\n",
        "\n",
        "assert(get_hash(get_FP_column(summary[summary['race']=='Caucasian']))  == 'bc995fd0c02ad77eb6924ea48482f9ed')\n",
        "print(\"Test passed!\")\n"
      ],
      "execution_count": 94,
      "outputs": [
        {
          "output_type": "stream",
          "text": [
            "FP column for Caucasian: [1281  804  583  427  282  173  106   61   37   15]\n",
            "Test passed!\n"
          ],
          "name": "stdout"
        }
      ]
    },
    {
      "cell_type": "code",
      "metadata": {
        "id": "TJ7tLF_GPkEI",
        "colab_type": "code",
        "colab": {
          "base_uri": "https://localhost:8080/",
          "height": 52
        },
        "outputId": "bc9e01f9-fd67-4a6f-dad8-979eaba0f469"
      },
      "source": [
        "# Compute the number of false negatives assuming the decision threshold \n",
        "# occurs just below each decile_score.\n",
        "def get_FN_column(summary_df):\n",
        "    \"\"\"Returns an array of the number of false negatives for each decile_score threshold.\n",
        "    \n",
        "    Args:\n",
        "      summary_df: dataframe containing columns for 'decile_score', 'recid_count', \n",
        "        'non_recid_count', and 'total_count' for a given race.\n",
        "    \n",
        "    Returns:\n",
        "      An array of the number of false negatives for each decile_score (under the assumption that every example\n",
        "      receiving that row's decile_score or above is classified as positive -- aka, the decision threshold occurs\n",
        "      just below the row's decile score.)\n",
        "    \"\"\"\n",
        "    FNs = []\n",
        "    for threshold in summary_df['decile_score']:\n",
        "        false_negatives = sum(summary_df[summary_df['decile_score'] \n",
        "                                         < threshold]['recid_count']) # FILL IN: compute the number of false negatives for this threshold. \n",
        "        FNs.append(false_negatives)\n",
        "    return np.array(FNs, dtype=np.int32)\n",
        "\n",
        "print(\"FN column for Caucasian:\", get_FN_column(summary[summary['race']=='Caucasian']))\n",
        "\n",
        "assert(get_hash(get_FN_column(summary[summary['race']=='Caucasian']))  == 'f680125060a0bfb18a1447c6658fdfb8')\n",
        "print(\"Test passed!\")\n"
      ],
      "execution_count": 95,
      "outputs": [
        {
          "output_type": "stream",
          "text": [
            "FN column for Caucasian: [  0 128 228 310 408 499 592 660 732 787]\n",
            "Test passed!\n"
          ],
          "name": "stdout"
        }
      ]
    },
    {
      "cell_type": "code",
      "metadata": {
        "id": "hW2SrJN0PoFr",
        "colab_type": "code",
        "colab": {
          "base_uri": "https://localhost:8080/",
          "height": 648
        },
        "outputId": "ac50d481-4eba-4c58-a4fc-a6ac7b501f20"
      },
      "source": [
        "# Note: nothing you need to do in this cell, just run it to assign the columns you created to the summary dataframe.\n",
        "# Add in the TP, TN, FP, FN information for each race.\n",
        "for race in races:\n",
        "    rows = summary['race'] == race\n",
        "    summary.loc[rows, 'TP'] = get_TP_column(summary[rows])\n",
        "    summary.loc[rows, 'TN'] = get_TN_column(summary[rows])\n",
        "    summary.loc[rows, 'FP'] = get_FP_column(summary[rows])\n",
        "    summary.loc[rows, 'FN'] = get_FN_column(summary[rows])\n",
        "summary.fillna(0 , inplace=True)\n",
        "summary"
      ],
      "execution_count": 101,
      "outputs": [
        {
          "output_type": "execute_result",
          "data": {
            "text/html": [
              "<div>\n",
              "<style scoped>\n",
              "    .dataframe tbody tr th:only-of-type {\n",
              "        vertical-align: middle;\n",
              "    }\n",
              "\n",
              "    .dataframe tbody tr th {\n",
              "        vertical-align: top;\n",
              "    }\n",
              "\n",
              "    .dataframe thead th {\n",
              "        text-align: right;\n",
              "    }\n",
              "</style>\n",
              "<table border=\"1\" class=\"dataframe\">\n",
              "  <thead>\n",
              "    <tr style=\"text-align: right;\">\n",
              "      <th></th>\n",
              "      <th>race</th>\n",
              "      <th>decile_score</th>\n",
              "      <th>recid_count</th>\n",
              "      <th>non_recid_count</th>\n",
              "      <th>total_count</th>\n",
              "      <th>TP</th>\n",
              "      <th>TN</th>\n",
              "      <th>FP</th>\n",
              "      <th>FN</th>\n",
              "    </tr>\n",
              "  </thead>\n",
              "  <tbody>\n",
              "    <tr>\n",
              "      <th>0</th>\n",
              "      <td>African-American</td>\n",
              "      <td>1</td>\n",
              "      <td>85</td>\n",
              "      <td>280</td>\n",
              "      <td>365</td>\n",
              "      <td>1661.0</td>\n",
              "      <td>0.0</td>\n",
              "      <td>1514.0</td>\n",
              "      <td>0.0</td>\n",
              "    </tr>\n",
              "    <tr>\n",
              "      <th>1</th>\n",
              "      <td>African-American</td>\n",
              "      <td>2</td>\n",
              "      <td>105</td>\n",
              "      <td>241</td>\n",
              "      <td>346</td>\n",
              "      <td>1576.0</td>\n",
              "      <td>280.0</td>\n",
              "      <td>1234.0</td>\n",
              "      <td>85.0</td>\n",
              "    </tr>\n",
              "    <tr>\n",
              "      <th>2</th>\n",
              "      <td>African-American</td>\n",
              "      <td>3</td>\n",
              "      <td>125</td>\n",
              "      <td>173</td>\n",
              "      <td>298</td>\n",
              "      <td>1471.0</td>\n",
              "      <td>521.0</td>\n",
              "      <td>993.0</td>\n",
              "      <td>190.0</td>\n",
              "    </tr>\n",
              "    <tr>\n",
              "      <th>3</th>\n",
              "      <td>African-American</td>\n",
              "      <td>4</td>\n",
              "      <td>158</td>\n",
              "      <td>179</td>\n",
              "      <td>337</td>\n",
              "      <td>1346.0</td>\n",
              "      <td>694.0</td>\n",
              "      <td>820.0</td>\n",
              "      <td>315.0</td>\n",
              "    </tr>\n",
              "    <tr>\n",
              "      <th>4</th>\n",
              "      <td>African-American</td>\n",
              "      <td>5</td>\n",
              "      <td>158</td>\n",
              "      <td>165</td>\n",
              "      <td>323</td>\n",
              "      <td>1188.0</td>\n",
              "      <td>873.0</td>\n",
              "      <td>641.0</td>\n",
              "      <td>473.0</td>\n",
              "    </tr>\n",
              "    <tr>\n",
              "      <th>5</th>\n",
              "      <td>African-American</td>\n",
              "      <td>6</td>\n",
              "      <td>187</td>\n",
              "      <td>131</td>\n",
              "      <td>318</td>\n",
              "      <td>1030.0</td>\n",
              "      <td>1038.0</td>\n",
              "      <td>476.0</td>\n",
              "      <td>631.0</td>\n",
              "    </tr>\n",
              "    <tr>\n",
              "      <th>6</th>\n",
              "      <td>African-American</td>\n",
              "      <td>7</td>\n",
              "      <td>209</td>\n",
              "      <td>134</td>\n",
              "      <td>343</td>\n",
              "      <td>843.0</td>\n",
              "      <td>1169.0</td>\n",
              "      <td>345.0</td>\n",
              "      <td>818.0</td>\n",
              "    </tr>\n",
              "    <tr>\n",
              "      <th>7</th>\n",
              "      <td>African-American</td>\n",
              "      <td>8</td>\n",
              "      <td>215</td>\n",
              "      <td>86</td>\n",
              "      <td>301</td>\n",
              "      <td>634.0</td>\n",
              "      <td>1303.0</td>\n",
              "      <td>211.0</td>\n",
              "      <td>1027.0</td>\n",
              "    </tr>\n",
              "    <tr>\n",
              "      <th>8</th>\n",
              "      <td>African-American</td>\n",
              "      <td>9</td>\n",
              "      <td>229</td>\n",
              "      <td>88</td>\n",
              "      <td>317</td>\n",
              "      <td>419.0</td>\n",
              "      <td>1389.0</td>\n",
              "      <td>125.0</td>\n",
              "      <td>1242.0</td>\n",
              "    </tr>\n",
              "    <tr>\n",
              "      <th>9</th>\n",
              "      <td>African-American</td>\n",
              "      <td>10</td>\n",
              "      <td>190</td>\n",
              "      <td>37</td>\n",
              "      <td>227</td>\n",
              "      <td>190.0</td>\n",
              "      <td>1477.0</td>\n",
              "      <td>37.0</td>\n",
              "      <td>1471.0</td>\n",
              "    </tr>\n",
              "    <tr>\n",
              "      <th>10</th>\n",
              "      <td>Caucasian</td>\n",
              "      <td>1</td>\n",
              "      <td>128</td>\n",
              "      <td>477</td>\n",
              "      <td>605</td>\n",
              "      <td>822.0</td>\n",
              "      <td>0.0</td>\n",
              "      <td>1281.0</td>\n",
              "      <td>0.0</td>\n",
              "    </tr>\n",
              "    <tr>\n",
              "      <th>11</th>\n",
              "      <td>Caucasian</td>\n",
              "      <td>2</td>\n",
              "      <td>100</td>\n",
              "      <td>221</td>\n",
              "      <td>321</td>\n",
              "      <td>694.0</td>\n",
              "      <td>477.0</td>\n",
              "      <td>804.0</td>\n",
              "      <td>128.0</td>\n",
              "    </tr>\n",
              "    <tr>\n",
              "      <th>12</th>\n",
              "      <td>Caucasian</td>\n",
              "      <td>3</td>\n",
              "      <td>82</td>\n",
              "      <td>156</td>\n",
              "      <td>238</td>\n",
              "      <td>594.0</td>\n",
              "      <td>698.0</td>\n",
              "      <td>583.0</td>\n",
              "      <td>228.0</td>\n",
              "    </tr>\n",
              "    <tr>\n",
              "      <th>13</th>\n",
              "      <td>Caucasian</td>\n",
              "      <td>4</td>\n",
              "      <td>98</td>\n",
              "      <td>145</td>\n",
              "      <td>243</td>\n",
              "      <td>512.0</td>\n",
              "      <td>854.0</td>\n",
              "      <td>427.0</td>\n",
              "      <td>310.0</td>\n",
              "    </tr>\n",
              "    <tr>\n",
              "      <th>14</th>\n",
              "      <td>Caucasian</td>\n",
              "      <td>5</td>\n",
              "      <td>91</td>\n",
              "      <td>109</td>\n",
              "      <td>200</td>\n",
              "      <td>414.0</td>\n",
              "      <td>999.0</td>\n",
              "      <td>282.0</td>\n",
              "      <td>408.0</td>\n",
              "    </tr>\n",
              "    <tr>\n",
              "      <th>15</th>\n",
              "      <td>Caucasian</td>\n",
              "      <td>6</td>\n",
              "      <td>93</td>\n",
              "      <td>67</td>\n",
              "      <td>160</td>\n",
              "      <td>323.0</td>\n",
              "      <td>1108.0</td>\n",
              "      <td>173.0</td>\n",
              "      <td>499.0</td>\n",
              "    </tr>\n",
              "    <tr>\n",
              "      <th>16</th>\n",
              "      <td>Caucasian</td>\n",
              "      <td>7</td>\n",
              "      <td>68</td>\n",
              "      <td>45</td>\n",
              "      <td>113</td>\n",
              "      <td>230.0</td>\n",
              "      <td>1175.0</td>\n",
              "      <td>106.0</td>\n",
              "      <td>592.0</td>\n",
              "    </tr>\n",
              "    <tr>\n",
              "      <th>17</th>\n",
              "      <td>Caucasian</td>\n",
              "      <td>8</td>\n",
              "      <td>72</td>\n",
              "      <td>24</td>\n",
              "      <td>96</td>\n",
              "      <td>162.0</td>\n",
              "      <td>1220.0</td>\n",
              "      <td>61.0</td>\n",
              "      <td>660.0</td>\n",
              "    </tr>\n",
              "    <tr>\n",
              "      <th>18</th>\n",
              "      <td>Caucasian</td>\n",
              "      <td>9</td>\n",
              "      <td>55</td>\n",
              "      <td>22</td>\n",
              "      <td>77</td>\n",
              "      <td>90.0</td>\n",
              "      <td>1244.0</td>\n",
              "      <td>37.0</td>\n",
              "      <td>732.0</td>\n",
              "    </tr>\n",
              "    <tr>\n",
              "      <th>19</th>\n",
              "      <td>Caucasian</td>\n",
              "      <td>10</td>\n",
              "      <td>35</td>\n",
              "      <td>15</td>\n",
              "      <td>50</td>\n",
              "      <td>35.0</td>\n",
              "      <td>1266.0</td>\n",
              "      <td>15.0</td>\n",
              "      <td>787.0</td>\n",
              "    </tr>\n",
              "  </tbody>\n",
              "</table>\n",
              "</div>"
            ],
            "text/plain": [
              "                race  decile_score  recid_count  ...      TN      FP      FN\n",
              "0   African-American             1           85  ...     0.0  1514.0     0.0\n",
              "1   African-American             2          105  ...   280.0  1234.0    85.0\n",
              "2   African-American             3          125  ...   521.0   993.0   190.0\n",
              "3   African-American             4          158  ...   694.0   820.0   315.0\n",
              "4   African-American             5          158  ...   873.0   641.0   473.0\n",
              "5   African-American             6          187  ...  1038.0   476.0   631.0\n",
              "6   African-American             7          209  ...  1169.0   345.0   818.0\n",
              "7   African-American             8          215  ...  1303.0   211.0  1027.0\n",
              "8   African-American             9          229  ...  1389.0   125.0  1242.0\n",
              "9   African-American            10          190  ...  1477.0    37.0  1471.0\n",
              "10         Caucasian             1          128  ...     0.0  1281.0     0.0\n",
              "11         Caucasian             2          100  ...   477.0   804.0   128.0\n",
              "12         Caucasian             3           82  ...   698.0   583.0   228.0\n",
              "13         Caucasian             4           98  ...   854.0   427.0   310.0\n",
              "14         Caucasian             5           91  ...   999.0   282.0   408.0\n",
              "15         Caucasian             6           93  ...  1108.0   173.0   499.0\n",
              "16         Caucasian             7           68  ...  1175.0   106.0   592.0\n",
              "17         Caucasian             8           72  ...  1220.0    61.0   660.0\n",
              "18         Caucasian             9           55  ...  1244.0    37.0   732.0\n",
              "19         Caucasian            10           35  ...  1266.0    15.0   787.0\n",
              "\n",
              "[20 rows x 9 columns]"
            ]
          },
          "metadata": {
            "tags": []
          },
          "execution_count": 101
        }
      ]
    },
    {
      "cell_type": "markdown",
      "metadata": {
        "id": "r8nxDtD-c1VR",
        "colab_type": "text"
      },
      "source": [
        "## Question 2.C. Computer Disparity.\n",
        "\n",
        "Here you will first write code to compute the the true positive rate (TPR), false positive rate (FPR), and positive predictive value (PPV) metrics. PPV is also known as precision, and is defined as the number of true positives divided by the number of examples classified as positive. \n",
        "\n",
        "We have provided an example on how to compute TPR. Your task is to fill in the details for FPR and PPV.\n"
      ]
    },
    {
      "cell_type": "code",
      "metadata": {
        "id": "TImqtsWdc6ED",
        "colab_type": "code",
        "colab": {
          "base_uri": "https://localhost:8080/",
          "height": 35
        },
        "outputId": "a80e05df-a510-4ac6-9d69-8c11bee979a3"
      },
      "source": [
        "# Sample code: compute the TPR for each race using other columns in summary.\n",
        "summary['TPR'] = summary['TP'] / (summary['TP'] + summary['FN']) \n",
        "\n",
        "assert(get_hash(np.array(summary['TPR'].round(1), dtype=np.float32)) == '4e6755717caed5f4d6a62fc6fe8abbee')\n",
        "print(\"Test passed!\")"
      ],
      "execution_count": 102,
      "outputs": [
        {
          "output_type": "stream",
          "text": [
            "Test passed!\n"
          ],
          "name": "stdout"
        }
      ]
    },
    {
      "cell_type": "code",
      "metadata": {
        "id": "gSZi4F_0gB_u",
        "colab_type": "code",
        "colab": {
          "base_uri": "https://localhost:8080/",
          "height": 35
        },
        "outputId": "f95f4cec-57b8-4f7e-faff-b6753a7045e0"
      },
      "source": [
        "# FILL IN: compute the FPR for each race using other columns in summary.\n",
        "summary['FPR'] = summary['FP'] / (summary['FP'] + summary['TN']) # FILL IN: fill in the columns to use.\n",
        "\n",
        "assert(get_hash(np.array(summary['FPR'].round(1), dtype=np.float32)) == 'e0eba6216d5fada1d6eabbfe568c527b')\n",
        "print(\"Test passed!\")"
      ],
      "execution_count": 105,
      "outputs": [
        {
          "output_type": "stream",
          "text": [
            "Test passed!\n"
          ],
          "name": "stdout"
        }
      ]
    },
    {
      "cell_type": "code",
      "metadata": {
        "id": "lQvDHEIShIOC",
        "colab_type": "code",
        "colab": {
          "base_uri": "https://localhost:8080/",
          "height": 35
        },
        "outputId": "f00c9faf-4d71-4c1c-d270-7754e3596e88"
      },
      "source": [
        "# FILL IN: compute the PPV for each race using other columns in summary.\n",
        "summary['PPV'] = summary['TP'] / (summary['TP'] + summary['FP']) # FILL IN: fill in the columns to use.\n",
        "\n",
        "assert(get_hash(np.array(summary['PPV'].round(1), dtype=np.float32))  == '6db5b24b7cd46af910f6a781eee40134')\n",
        "print(\"Test passed!\")"
      ],
      "execution_count": 112,
      "outputs": [
        {
          "output_type": "stream",
          "text": [
            "Test passed!\n"
          ],
          "name": "stdout"
        }
      ]
    },
    {
      "cell_type": "markdown",
      "metadata": {
        "id": "dida3BW_kZ8h",
        "colab_type": "text"
      },
      "source": [
        "Next, now suppose we use the same threshold for both groups. Answer the following:\n",
        "1. What is the threshold that leads to the largest disparity in FPR?\n",
        "2. What is the threshold that leads to the largest disparity in PPV?\n",
        "\n",
        "_Double click to write your answer question here. Show your work in code below if applicable._"
      ]
    },
    {
      "cell_type": "markdown",
      "metadata": {
        "id": "AktPZXV_h0NJ",
        "colab_type": "text"
      },
      "source": [
        "## Question 2.D. ROC\n",
        "First, we will plot the ROC curve for each race. Please fill in the missing details below for the plotting code.\n",
        "\n"
      ]
    },
    {
      "cell_type": "code",
      "metadata": {
        "id": "Bv2X3J5FiG_e",
        "colab_type": "code",
        "colab": {
          "base_uri": "https://localhost:8080/",
          "height": 279
        },
        "outputId": "5e31da4a-82da-4151-9146-262696de4a71"
      },
      "source": [
        "# FILL IN: plot the ROC curve for each race.\n",
        "plt.figure()\n",
        "\n",
        "for race in races: \n",
        "    rows = summary[summary['race']==race]\n",
        "    plt.plot(rows['FPR'], rows['TPR'], '-o', label=race) # FILL IN the correct columns to use.\n",
        "    \n",
        "plt.legend()\n",
        "plt.xlabel('TODO') # FILL IN the correct labels for the x axis on an ROC curve.\n",
        "plt.ylabel('TODO') # FILL IN the correct labels for the y axis on an ROC curve.\n",
        "plt.show()"
      ],
      "execution_count": 108,
      "outputs": [
        {
          "output_type": "display_data",
          "data": {
            "image/png": "[encoded data removed]",
            "text/plain": [
              "<Figure size 432x288 with 1 Axes>"
            ]
          },
          "metadata": {
            "tags": [],
            "needs_background": "light"
          }
        }
      ]
    },
    {
      "cell_type": "markdown",
      "metadata": {
        "id": "yifMZ-YJnEjM",
        "colab_type": "text"
      },
      "source": [
        "## Question 2.E. Equalizing TPR and FPR\n",
        "\n",
        "Next, find two thresholds (one for black defendants, one for white defendants) such that FPR and TPR are roughly equal for the two groups (say, within 1% of each other).\n",
        "Note: trivial thresholds of 0 or 11\n",
        "don’t count. Hint: it may be helpful to look at the ROC curves for each race."
      ]
    },
    {
      "cell_type": "code",
      "metadata": {
        "id": "uSppT2xfnE-p",
        "colab_type": "code",
        "colab": {}
      },
      "source": [
        "# FILL IN: choose a decision threshold for each race corresponding to a \n",
        "# decile_score between 1 and 10 such that the FPR and TPR are \n",
        "# roughly equal for the two races.\n",
        "\n",
        "caucasian_threshold = 5# FILL IN: choose a decision threshold to use for the subset of data with race = Caucasian.\n",
        "african_american_threshold = 7# FILL IN: choose a decision threshold to use for the subset of data with race = African-American.\n",
        "\n",
        "thresh = {'Caucasian': caucasian_threshold, 'African-American': african_american_threshold}  "
      ],
      "execution_count": 115,
      "outputs": []
    },
    {
      "cell_type": "markdown",
      "metadata": {
        "id": "34Y6KrzSnopW",
        "colab_type": "text"
      },
      "source": [
        "Finally, for the pair of thresholds you have selected above, what is the disparity of PPV across the two groups?\n",
        "\n",
        "_Double click to write your answer question here. Show your work in code below if applicable._"
      ]
    },
    {
      "cell_type": "code",
      "metadata": {
        "id": "MikZ3jKan2yL",
        "colab_type": "code",
        "colab": {}
      },
      "source": [
        ""
      ],
      "execution_count": null,
      "outputs": []
    }
  ]
}